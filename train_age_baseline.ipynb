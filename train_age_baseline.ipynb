{
 "cells": [
  {
   "cell_type": "code",
   "execution_count": null,
   "metadata": {},
   "outputs": [],
   "source": [
    "from dataset import load_megaage_data_npz\n",
    "from age_model import age_baseline_net\n",
    "from keras.optimizers import Adam\n",
    "import keras\n",
    "import os"
   ]
  },
  {
   "cell_type": "code",
   "execution_count": null,
   "metadata": {},
   "outputs": [],
   "source": [
    "data_path = '/src/dataset/megaage/megaage_asian_db.npz'\n",
    "(x_train, y_train), (x_test, y_test), image_shape0 = load_megaage_data_npz(data_path)"
   ]
  },
  {
   "cell_type": "code",
   "execution_count": null,
   "metadata": {},
   "outputs": [],
   "source": [
    "model = age_baseline_net((image_shape0, image_shape0, 3))\n",
    "model.compile(optimizer=Adam(), loss=[\"mae\"], metrics={'pred_age': 'mae'})"
   ]
  },
  {
   "cell_type": "code",
   "execution_count": null,
   "metadata": {},
   "outputs": [],
   "source": [
    "tensor_board = keras.callbacks.TensorBoard(log_dir='/src/tensorboard', histogram_freq=0, batch_size=32, write_graph=True, write_grads=False, write_images=False, embeddings_freq=0, embeddings_layer_names=None, embeddings_metadata=None)\n",
    "\n",
    "if not os.path.exists('age_check_point'):\n",
    "    os.mkdir('age_check_point')\n",
    "    \n",
    "model_check_point = keras.callbacks.ModelCheckpoint(\"age_check_point/weights.{epoch:02d}-{val_loss:.2f}.hdf5\",\n",
    "                                                    monitor=\"val_loss\",\n",
    "                                                    verbose=1,\n",
    "                                                    save_best_only=True,\n",
    "                                                    mode=\"auto\")"
   ]
  },
  {
   "cell_type": "code",
   "execution_count": null,
   "metadata": {},
   "outputs": [],
   "source": [
    "print('Training ------------')\n",
    "model.fit(x_train, y_train, batch_size = 256, epochs=300, \n",
    "          callbacks=[tensor_board, model_check_point], \n",
    "          validation_data=(x_test, y_test))"
   ]
  }
 ],
 "metadata": {
  "kernelspec": {
   "display_name": "Python 3",
   "language": "python",
   "name": "python3"
  },
  "language_info": {
   "codemirror_mode": {
    "name": "ipython",
    "version": 3
   },
   "file_extension": ".py",
   "mimetype": "text/x-python",
   "name": "python",
   "nbconvert_exporter": "python",
   "pygments_lexer": "ipython3",
   "version": "3.5.4"
  }
 },
 "nbformat": 4,
 "nbformat_minor": 2
}
